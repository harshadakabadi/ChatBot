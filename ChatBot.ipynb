{
  "cells": [
    {
      "cell_type": "markdown",
      "source": [
        "**Importing Libraries**"
      ],
      "metadata": {
        "id": "Teq332CFaxi3"
      }
    },
    {
      "cell_type": "code",
      "execution_count": null,
      "metadata": {
        "id": "1ZIQqeBh9xtU"
      },
      "outputs": [],
      "source": [
        "import numpy as np\n",
        "import nltk\n",
        "import string\n",
        "import random"
      ]
    },
    {
      "cell_type": "markdown",
      "source": [
        ""
      ],
      "metadata": {
        "id": "XYz0VTRZbFNZ"
      }
    },
    {
      "cell_type": "code",
      "execution_count": null,
      "metadata": {
        "id": "tV798Ip6A7wQ"
      },
      "outputs": [],
      "source": [
        "lemmer=nltk.stem.WordNetLemmatizer()\n",
        "def LemTokens(tokens):\n",
        "  return [lemmer.lemmatize(token) for token in tokens]\n",
        "remove_punct_dict = dict((ord(punct), None) for punct in string.punctuation)\n",
        "def LemNormalize(text):\n",
        "    return LemTokens(nltk.word_tokenize(text.lower().translate(remove_punct_dict)))"
      ]
    },
    {
      "cell_type": "code",
      "execution_count": null,
      "metadata": {
        "id": "rvk-3b0iEy9L"
      },
      "outputs": [],
      "source": [
        "GREETS_INPUTS11 = (\"1\",)\n",
        "GREET_RESPONSES11 = [\"Sorry, we currently do not have the delivery executives details as the order is not out for delivery yet\",\"9665362276\"]\n",
        "def greet11(sentence):\n",
        "\n",
        "  for word in sentence.split():\n",
        "    if word.lower() in GREETS_INPUTS11:\n",
        "        return random.choice(GREET_RESPONSES11)\n",
        "\n",
        "GREETS_INPUTS12 = (\"2\",)\n",
        "GREET_RESPONSES12 = [\"Your order is in warehouse\",\"Your order is out for delivery\"]\n",
        "def greet12(sentence):\n",
        "\n",
        "  for word in sentence.split():\n",
        "    if word.lower() in GREETS_INPUTS12:\n",
        "        return random.choice(GREET_RESPONSES12)\n",
        "\n",
        "GREETS_INPUTS13 = (\"3\",)\n",
        "GREET_RESPONSES13 = [\"We will try to deliver your order soon\",\"Your order is out for delivery\"]\n",
        "def greet13(sentence):\n",
        "\n",
        "  for word in sentence.split():\n",
        "    if word.lower() in GREETS_INPUTS13:\n",
        "        return random.choice(GREET_RESPONSES13)        \n",
        "#-----------------------------------------------------------------------------------------#        \n",
        "GREETS_INPUTS21 = (\"1\",)\n",
        "GREET_RESPONSES21 = [\"Cancellation Confirmed.\"]\n",
        "def greet21(sentence):\n",
        "\n",
        "  for word in sentence.split():\n",
        "    if word.lower() in GREETS_INPUTS21:\n",
        "        return random.choice(GREET_RESPONSES21)\n",
        "\n",
        "GREETS_INPUTS22 = (\"2\",)\n",
        "GREET_RESPONSES22 = [\"Your order is on the way <3.\"]\n",
        "def greet22(sentence):\n",
        "\n",
        "  for word in sentence.split():\n",
        "    if word.lower() in GREETS_INPUTS22:\n",
        "        return random.choice(GREET_RESPONSES22)\n",
        "\n",
        "#----------------------------------------------------------------------------------------------#            \n",
        "\n",
        "GREETS_INPUTS31 = (\"1\",)\n",
        "GREET_RESPONSES31 = [\"Your Product is rated 3.5\",\"Your Product is rated 4.5\",\"Your product is rated 5\"]\n",
        "def greet31(sentence):\n",
        "\n",
        "  for word in sentence.split():\n",
        "    if word.lower() in GREETS_INPUTS31:\n",
        "        return random.choice(GREET_RESPONSES31)   \n",
        "\n",
        "GREETS_INPUTS32 = (\"2\",)\n",
        "GREET_RESPONSES32 = [\"400\",\"500\",\"1000\"]\n",
        "def greet32(sentence):\n",
        "\n",
        "  for word in sentence.split():\n",
        "    if word.lower() in GREETS_INPUTS32:\n",
        "        return random.choice(GREET_RESPONSES32)    \n",
        "\n",
        "#----------------------------------------------------------------------------------------------#            \n",
        "\n",
        "GREETS_INPUTS41 = (\"1\",)\n",
        "GREET_RESPONSES41 = [\"You will get a call within 10 minutes.\",\"We will contact you soon.\"]\n",
        "def greet41(sentence):\n",
        "\n",
        "  for word in sentence.split():\n",
        "    if word.lower() in GREETS_INPUTS41:\n",
        "        return random.choice(GREET_RESPONSES41)   \n",
        "\n",
        "GREETS_INPUTS42 = (\"2\",)\n",
        "GREET_RESPONSES42 = [\"You will get an email soon.\",\"Please check your mail box.\"]\n",
        "def greet42(sentence):\n",
        "\n",
        "  for word in sentence.split():\n",
        "    if word.lower() in GREETS_INPUTS42:\n",
        "        return random.choice(GREET_RESPONSES42)    "
      ]
    },
    {
      "cell_type": "markdown",
      "metadata": {
        "id": "7UIn_opjGIrj"
      },
      "source": [
        "RESPONSE GENERATION"
      ]
    },
    {
      "cell_type": "code",
      "execution_count": null,
      "metadata": {
        "id": "qv0ZSW_BGLR1"
      },
      "outputs": [],
      "source": [
        "from sklearn.feature_extraction.text import TfidfVectorizer\n",
        "from sklearn.metrics.pairwise import cosine_similarity\n"
      ]
    },
    {
      "cell_type": "markdown",
      "metadata": {
        "id": "Nm4txY1-Ihua"
      },
      "source": [
        "Defining conversation start/end  protocols"
      ]
    },
    {
      "cell_type": "code",
      "execution_count": null,
      "metadata": {
        "colab": {
          "base_uri": "https://localhost:8080/"
        },
        "id": "WigChbCqIv0Y",
        "outputId": "7465113d-0a77-4b33-8fc1-1f46949ed5a2"
      },
      "outputs": [
        {
          "output_type": "stream",
          "name": "stdout",
          "text": [
            "Hello Customer, I am the Support Assistant\n",
            "I am here to help you and will connect you to a customer support agent(through call,chat or email) if I don't have the answer.\n",
            "What can I help you with?\n",
            "\t1.Delivery related query \n",
            "\t2.Cancel order \n",
            "\t3.Product Related Information \n",
            "\t4.Others\n",
            "bhhhh\n",
            "Good bye take care <3\n"
          ]
        }
      ],
      "source": [
        "flag=True\n",
        "print(\"Hello Customer, I am the Support Assistant\")\n",
        "print(\"I am here to help you and will connect you to a customer support agent(through call,chat or email) if I don't have the answer.\")\n",
        "while(flag==True):\n",
        "  print(\"What can I help you with?\\n\\t1.Delivery related query \\n\\t2.Cancel order \\n\\t3.Product Related Information \\n\\t4.Others\")\n",
        "  user_response1 = input()\n",
        "  \n",
        "  if(user_response1=='1' or user_response1=='2' or user_response1=='3' or user_response1=='4' ):\n",
        "    if(user_response1=='thanks' or user_response1=='thank you'):\n",
        "      flag==False\n",
        "      print(\"You are welcome..\")\n",
        "    else:\n",
        "      if(user_response1=='1'):\n",
        "        print(\"Please choose from the mentioned options \\n\\t1.Delivery agent number \\n\\t2.Where is my order? \\n\\t3.Faster delivery request \\n\\t4.Go Back to previous menu\")\n",
        "        user_response2 = input()\n",
        "        if(user_response2=='1'):\n",
        "          print(greet11(user_response2))\n",
        "        if(user_response2=='2'):\n",
        "          print(greet12(user_response2))\n",
        "        if(user_response2=='3'):\n",
        "          print(greet13(user_response2))  \n",
        "        if(user_response2=='4'):\n",
        "          continue\n",
        "      #------------------------------------------------------------------------------------------------------------------------------------#\n",
        "      if(user_response1=='2'):\n",
        "        print(\"Are you sure you want to cancel your order? \\n\\t1.Yes \\n\\t2.No \\n\\t3.Go Back to previous menu\")\n",
        "        user_response2 = input()\n",
        "        if(user_response2=='1'):\n",
        "          print(greet21(user_response2))\n",
        "        if(user_response2=='2'):\n",
        "          print(greet22(user_response2))\n",
        "        if(user_response2=='3'):\n",
        "          continue\n",
        "      #------------------------------------------------------------------------------------------------------------------------------------#\n",
        "      if(user_response1=='3'):\n",
        "        print(\"Please choose from the mentioned options \\n\\t1.Information Related to Rating \\n\\t2.Price \\n\\t3.Go Back to previous menu\")\n",
        "        user_response2 = input()\n",
        "        if(user_response2=='1'):\n",
        "          print(greet31(user_response2))\n",
        "        if(user_response2=='2'):\n",
        "          print(greet32(user_response2))\n",
        "        if(user_response2=='3'):\n",
        "          continue\n",
        "       #------------------------------------------------------------------------------------------------------------------------------------#\n",
        "      if(user_response1=='4'):\n",
        "        print(\"Give me a moment while I connect you to one of our customer support executive to help you out.How would you like to contact us? \\n\\t1.Request a call \\n\\t2.Email \\n\\t3.Go Back to previous menu\")\n",
        "        user_response2 = input()\n",
        "        if(user_response2=='1'):\n",
        "          print(greet41(user_response2))\n",
        "        if(user_response2=='2'):\n",
        "          print(greet42(user_response2))\n",
        "        if(user_response2=='3'):\n",
        "          continue\n",
        "  else:\n",
        "    flag=False\n",
        "    print(\"Good bye take care <3\")"
      ]
    },
    {
      "cell_type": "code",
      "execution_count": null,
      "metadata": {
        "id": "hwvUllQ0TRBb"
      },
      "outputs": [],
      "source": [
        ""
      ]
    },
    {
      "cell_type": "code",
      "execution_count": null,
      "metadata": {
        "id": "ZlKU3bSlHCzR"
      },
      "outputs": [],
      "source": [
        ""
      ]
    }
  ],
  "metadata": {
    "colab": {
      "collapsed_sections": [],
      "name": "ChatBot.ipynb",
      "provenance": []
    },
    "kernelspec": {
      "display_name": "Python 3",
      "name": "python3"
    },
    "language_info": {
      "name": "python"
    }
  },
  "nbformat": 4,
  "nbformat_minor": 0
}